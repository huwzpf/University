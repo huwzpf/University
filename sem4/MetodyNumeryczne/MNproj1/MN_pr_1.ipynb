{
 "cells": [
  {
   "cell_type": "markdown",
   "id": "9bcc9ebf",
   "metadata": {},
   "source": [
    "Wskaźniki $MACD$ i $SIGNAL$ obliczane są przy uzyciu średniej kroczącej $EMA$ dla $N$ okresów danej wzorem :\n",
    "\n",
    "$$ EMA_N = \\frac{p_0 + (1 - \\alpha)p_1 + (1-\\alpha)^2p_2 + ... +(1-\\alpha)^N p_N}{1 + (1 - \\alpha) + (1-\\alpha)^2 + ... +(1-\\alpha)^N}$$\n",
    "\n",
    "\n",
    "gdzie $p_i$ jest próbką sprzed $i$ dni  a  $ \\alpha = \\frac{2}{N+1} $"
   ]
  },
  {
   "cell_type": "markdown",
   "id": "833591b0",
   "metadata": {},
   "source": [
    "Funkcja $EMA$ przyjmuje jako parametr $N$ elementowy wektor danych "
   ]
  },
  {
   "cell_type": "code",
   "execution_count": null,
   "id": "efda8593",
   "metadata": {},
   "outputs": [],
   "source": [
    "def EMA(v):\n",
    "    n = len(v)\n",
    "    a = 2 / (n + 1)\n",
    "    numerator = 0\n",
    "    denominator = 0\n",
    "    for i in range(n):\n",
    "        numerator += v[i] * ((1 - a) ** i)\n",
    "        denominator += (1 - a) ** i\n",
    "    return numerator / denominator\n"
   ]
  },
  {
   "cell_type": "markdown",
   "id": "d930f55a",
   "metadata": {},
   "source": [
    "Wskaźnik $MACD$ jest obliczany jako $EMA_{12} - EMA_{26}$ z danych, a wstaźnik $SIGNAL$ \n",
    "jako $EMA_9$ z $MACD$"
   ]
  },
  {
   "cell_type": "markdown",
   "id": "aeac8ddd",
   "metadata": {},
   "source": [
    "Funkcja $MACD$ przyjmuje jako parametr wektor danych, którego ostatnim elementem jest dzień dla którego liczony jest wskaźnik, podobnie jak funkcja $SIGNAL$\n"
   ]
  },
  {
   "cell_type": "code",
   "execution_count": null,
   "id": "a21e2442",
   "metadata": {},
   "outputs": [],
   "source": [
    "def MACD(v):\n",
    "    ema_12 = EMA(v[-12:])\n",
    "    ema_26 = EMA(v[-26:])\n",
    "    return ema_12 - ema_26\n",
    "\n",
    "\n",
    "def SIGNAL(macd):\n",
    "    return EMA(macd[-9:])"
   ]
  },
  {
   "cell_type": "markdown",
   "id": "92b8152e",
   "metadata": {},
   "source": [
    "Generowanie wykresu funkcji odbywa się w funkcji main, jako parametr podany jest wektor danych wczytany na początku skryptu za pomocą biblioteki pandas"
   ]
  },
  {
   "cell_type": "code",
   "execution_count": null,
   "id": "ee584f0e",
   "metadata": {},
   "outputs": [],
   "source": [
    "if __name__ == \"__main__\":\n",
    "    column = -1\n",
    "    data_dir = 'C:/Users/PCu/Downloads/data.csv'\n",
    "    data = pd.read_csv(data_dir)\n",
    "    data_vector = data.iloc[:, column].to_numpy()\n",
    "    main(data_vector)\n"
   ]
  },
  {
   "cell_type": "markdown",
   "id": "a26b3c53",
   "metadata": {},
   "source": [
    "W funkcji main iteracyjnie wypełniane są tablice zawierające historię wartości wskaźników $MACD$ i $SIGNAL$. Zmienne ***dif*** i ***prev_dif*** zawierać będą różnicę wskaźników w obecnej i poprzedniej iteracji głównej pętli i potrzebne będą w późniejszej ocenie przydatności wskaźników w analizie technicznej."
   ]
  },
  {
   "cell_type": "code",
   "execution_count": null,
   "id": "b25ee17b",
   "metadata": {},
   "outputs": [],
   "source": [
    "def main(data):\n",
    "    #inicjalizacja zmiennych\n",
    "    macd_arr = np.empty(0)\n",
    "    signal_arr = np.empty(0)\n",
    "    dif = 0\n",
    "    prev_dif = 0"
   ]
  },
  {
   "cell_type": "markdown",
   "id": "11277ac1",
   "metadata": {},
   "source": [
    "Najpierw w pętli iterującej od 26 do 35 (9 - razy - tyle ile potrzeba do wyznaczenia $SIGNAL$) elementu wektora danych obliczane są wartości $MACD$ a następnie obliczana jest pierwsza wartość $SIGNAL$"
   ]
  },
  {
   "cell_type": "code",
   "execution_count": null,
   "id": "da4bed27",
   "metadata": {},
   "outputs": [],
   "source": [
    "     for i in range(26, 35):\n",
    "        macd_arr = np.append(macd_arr, MACD(data[:i]))\n",
    "        signal_arr = np.append(signal_arr, SIGNAL(macd_arr))"
   ]
  },
  {
   "cell_type": "markdown",
   "id": "afe65d6f",
   "metadata": {},
   "source": [
    "Przed główną pętlą programu przygotowywany jest podział wykresu na dwie części : na jednej z nich znajdować będą się wskaźniki, a na drugiej wyrysowujemy dane przy pomocy wykresy słupkowego."
   ]
  },
  {
   "cell_type": "code",
   "execution_count": null,
   "id": "49888f0d",
   "metadata": {},
   "outputs": [],
   "source": [
    "    fig, ax = plt.subplots(2, sharex=True)\n",
    "    plt.xlabel(\"dni\")\n",
    "    ax[1].set_ylabel(\"cena akcji\")\n",
    "    ax[0].set_ylabel(\"wartość wskaźników\")\n",
    "    axes_1 = fig.gca()\n",
    "    # narysowanie wykresu danych wejściowych\n",
    "    ax[1].bar(np.arange(0, len(data)), data - min(data), width=1, color='#80ede2', bottom=min(data))\n",
    "    # zapisujemy wartości do późniejszego użycia\n",
    "    y_min_1, y_max_1 = axes_1.get_ylim()"
   ]
  },
  {
   "cell_type": "markdown",
   "id": "5f412560",
   "metadata": {},
   "source": [
    "W głównej pętli rysowanie wykresów przebiega poprzez rysowanie odcinków pomiędzy kolejnymi wartościami $MACD$ i $SIGNAL$\n"
   ]
  },
  {
   "cell_type": "code",
   "execution_count": null,
   "id": "8addcdff",
   "metadata": {},
   "outputs": [],
   "source": [
    "     for i in range(35, len(data)):\n",
    "            macd_arr = np.append(macd_arr,  MACD(data[:i]))\n",
    "            signal_arr = np.append(signal_arr, SIGNAL(macd_arr))\n",
    "\n",
    "            ax[0].plot([i - 1, i], [signal_arr[-2], signal_arr[-1]], color='b', label='SIGNAL')\n",
    "            ax[0].plot([i - 1, i], [macd_arr[-2], macd_arr[-1]], color='r', label='MACD')\n",
    "            "
   ]
  },
  {
   "cell_type": "markdown",
   "id": "43a23c71",
   "metadata": {},
   "source": [
    "Jeśli wykresy $MACD$ i $SIGNAL$ przecinają się to różnica pomiędzy ich wartościami zmienia znak, w momentach przecięcia na wykresie danych rysowana jest pionowa linia - niebieska jeśli $SIGNAL$ przecina $MACD$ od góry i czerwona jeśli od dołu. Linie niebieskie wskazują moment sprzedaży akcji a czerwone zakupu."
   ]
  },
  {
   "cell_type": "code",
   "execution_count": null,
   "id": "9cff5f23",
   "metadata": {},
   "outputs": [],
   "source": [
    "            dif = signal_arr[-1] - macd_arr[-1]\n",
    "\n",
    "                if np.sign(dif) != np.sign(prev_dif) and i > 35:\n",
    "            \n",
    "                    if dif - prev_dif < 0:\n",
    "                        ax[1].vlines(i, y_min_1, y_max_1, colors='b')\n",
    "                    else:\n",
    "                        ax[1].vlines(i, y_min_1, y_max_1, colors='r')\n",
    "\n",
    "            prev_dif = dif"
   ]
  },
  {
   "cell_type": "markdown",
   "id": "f82e5f6d",
   "metadata": {},
   "source": [
    "Po wykonaniu się głownej pęli dodawana jest legenda do wykresów i są one wyświetlane."
   ]
  },
  {
   "cell_type": "code",
   "execution_count": null,
   "id": "467cf3ce",
   "metadata": {},
   "outputs": [],
   "source": [
    "    ax[0].legend(['SIGNAL', 'MACD'])\n",
    "    ax[1].legend(['buy', 'sell'], loc='lower left')\n",
    "    fig.tight_layout()\n",
    "    plt.show()"
   ]
  },
  {
   "cell_type": "markdown",
   "id": "b5f22aaf",
   "metadata": {},
   "source": [
    "Poniżej załączony jest wynik działania programu dla danych wejściowych w postaci wartości WIG20 dla 1000 dni"
   ]
  },
  {
   "cell_type": "markdown",
   "id": "e7aa02d4",
   "metadata": {},
   "source": [
    "![Wykres dla 1000 okresów](plot_1000.png)"
   ]
  },
  {
   "cell_type": "markdown",
   "id": "48b36b3e",
   "metadata": {},
   "source": [
    "Do oceny przydatności wskaźnika w analizie technicznej bardziej przydatne mogą być wykresy na mniejszych danych (ze względu na czytelność). Poniżej prezentowany jest wykres dla pierwszych 100 okresów danych wejściowych."
   ]
  },
  {
   "cell_type": "markdown",
   "id": "c0b61252",
   "metadata": {},
   "source": [
    "![Wykres dla 100 okresów](plot100.png)"
   ]
  },
  {
   "cell_type": "markdown",
   "id": "dcfacf01",
   "metadata": {},
   "source": [
    "Na podstawie wykresu można stwierdzić, że rozpatrywane wskaźniki w przybliżeniu dobrze przewidują wzrost / spadek ceny akcji, ale moment kupna / sprzedaży wskazany przez przecięcie się wykresów jest opóźniony, przez co sugerowanie się tymi punktami w handlu akcjami (przy założeniu że cena nie rośnie stale, a jest ciągle zmienna) nie przyniesie korzyści."
   ]
  },
  {
   "cell_type": "code",
   "execution_count": null,
   "id": "5511c115",
   "metadata": {},
   "outputs": [],
   "source": []
  }
 ],
 "metadata": {
  "kernelspec": {
   "display_name": "Python 3 (ipykernel)",
   "language": "python",
   "name": "python3"
  },
  "language_info": {
   "codemirror_mode": {
    "name": "ipython",
    "version": 3
   },
   "file_extension": ".py",
   "mimetype": "text/x-python",
   "name": "python",
   "nbconvert_exporter": "python",
   "pygments_lexer": "ipython3",
   "version": "3.9.10"
  }
 },
 "nbformat": 4,
 "nbformat_minor": 5
}
