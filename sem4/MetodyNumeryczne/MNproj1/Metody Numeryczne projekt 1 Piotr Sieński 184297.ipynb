{
 "cells": [
  {
   "cell_type": "markdown",
   "id": "40621bbe",
   "metadata": {},
   "source": [
    "# Projekt 1 Metody Numeryczne Piotr Sieński 184297 - Implementacja wskaźnika giełdowego MACD"
   ]
  },
  {
   "cell_type": "markdown",
   "id": "f585abe0",
   "metadata": {},
   "source": [
    "## Omówienie ogólnej struktury programu i implementacji wskaźnika $MACD$ "
   ]
  },
  {
   "cell_type": "markdown",
   "id": "9bcc9ebf",
   "metadata": {},
   "source": [
    "Wskaźniki $MACD$ i $SIGNAL$ obliczane są przy uzyciu średniej kroczącej $EMA$ dla $N$ okresów danej wzorem :\n",
    "\n",
    "$$ EMA_N = \\frac{p_0 + (1 - \\alpha)p_1 + (1-\\alpha)^2p_2 + ... +(1-\\alpha)^N p_N}{1 + (1 - \\alpha) + (1-\\alpha)^2 + ... +(1-\\alpha)^N}$$\n",
    "\n",
    "\n",
    "gdzie $p_i$ jest próbką sprzed $i$ dni  a  $\\alpha = \\frac{2}{N+1}$"
   ]
  },
  {
   "cell_type": "markdown",
   "id": "833591b0",
   "metadata": {},
   "source": [
    "Funkcja $EMA$ przyjmuje jako parametr $N$ elementowy wektor danych "
   ]
  },
  {
   "cell_type": "code",
   "execution_count": null,
   "id": "efda8593",
   "metadata": {},
   "outputs": [],
   "source": [
    "def EMA(v):\n",
    "    n = len(v)\n",
    "    a = 2 / (n + 1)\n",
    "    numerator = 0\n",
    "    denominator = 0\n",
    "    for i in range(n):\n",
    "        numerator += v[i] * ((1 - a) ** i)\n",
    "        denominator += (1 - a) ** i\n",
    "    return numerator / denominator\n"
   ]
  },
  {
   "cell_type": "markdown",
   "id": "d930f55a",
   "metadata": {},
   "source": [
    "Wskaźnik $MACD$ jest obliczany jako $EMA_{12} - EMA_{26}$ z danych, a wstaźnik $SIGNAL$ \n",
    "jako $EMA_9$ z $MACD$"
   ]
  },
  {
   "cell_type": "markdown",
   "id": "aeac8ddd",
   "metadata": {},
   "source": [
    "Funkcja $MACD$ przyjmuje jako parametr wektor danych, którego ostatnim elementem jest dzień dla którego liczony jest wskaźnik, podobnie jak funkcja $SIGNAL$\n"
   ]
  },
  {
   "cell_type": "code",
   "execution_count": null,
   "id": "a21e2442",
   "metadata": {},
   "outputs": [],
   "source": [
    "def MACD(v):\n",
    "    ema_12 = EMA(v[-12:])\n",
    "    ema_26 = EMA(v[-26:])\n",
    "    return ema_12 - ema_26\n",
    "\n",
    "\n",
    "def SIGNAL(macd):\n",
    "    return EMA(macd[-9:])"
   ]
  },
  {
   "cell_type": "markdown",
   "id": "92b8152e",
   "metadata": {},
   "source": [
    "Generowanie wykresu funkcji odbywa się w funkcji main, jako parametr podany jest wektor danych wczytany na początku skryptu za pomocą biblioteki pandas"
   ]
  },
  {
   "cell_type": "code",
   "execution_count": null,
   "id": "ee584f0e",
   "metadata": {},
   "outputs": [],
   "source": [
    "if __name__ == \"__main__\":\n",
    "    column = -2\n",
    "    data_dir = 'wig20.csv'\n",
    "    data = pd.read_csv(data_dir)\n",
    "    data_vector = data.iloc[:, column].to_numpy()\n",
    "    main(data_vector[:1000], sim_type=\"basic\")"
   ]
  },
  {
   "cell_type": "markdown",
   "id": "a26b3c53",
   "metadata": {},
   "source": [
    "Parametrami funkcji main są wektor danych i opcjonalne parametry określające metodę symulacji.\n",
    "\n",
    "W funkcji main iteracyjnie wypełniane są tablice zawierające historię wartości wskaźników $MACD$ i $SIGNAL$. Zmienne ***last_action*** i ***prev_dif*** zawierać będą parametry do różnych metod symulacji (dla podstawowej zapisujemy różnicę między $MACD$ i $SIGNAL$ w każdej w każdej iteracji głównej pętli, a dla zaawansowanej poprzenio wykonaną akcję tzn, kupno/ sprzedaż) i potrzebne będą w późniejszej ocenie przydatności wskaźników w analizie technicznej. Inicjalizowane są również zmienne określające ilość posiadanych akcji i pieniędzy oraz początkowa wartość posiadanego kapitału"
   ]
  },
  {
   "cell_type": "code",
   "execution_count": null,
   "id": "b25ee17b",
   "metadata": {},
   "outputs": [],
   "source": [
    "\n",
    "def main(data, sim_type=\"advanced\", dist=1.5, tau=0.8, amount=1):\n",
    "    macd_arr = np.empty(0)\n",
    "    signal_arr = np.empty(0)\n",
    "\n",
    "    if sim_type == \"basic\":\n",
    "        prev_dif = 0\n",
    "    else:\n",
    "        last_action = \"none\"\n",
    "\n",
    "    if amount > 1:\n",
    "        amount = 1\n",
    "\n",
    "    actions = 1000\n",
    "    money = 0\n",
    "    start_value = money + actions * data_vector[0]"
   ]
  },
  {
   "cell_type": "markdown",
   "id": "11277ac1",
   "metadata": {},
   "source": [
    "Najpierw w pętli iterującej od 26 do 35 (9 - razy - tyle ile potrzeba do wyznaczenia $SIGNAL$) elementu wektora danych obliczane są wartości $MACD$ a następnie obliczana jest pierwsza wartość $SIGNAL$"
   ]
  },
  {
   "cell_type": "code",
   "execution_count": null,
   "id": "da4bed27",
   "metadata": {},
   "outputs": [],
   "source": [
    "     for i in range(26, 35):\n",
    "        macd_arr = np.append(macd_arr, MACD(data[:i]))\n",
    "\n",
    "    signal_arr = np.append(signal_arr, SIGNAL(macd_arr))"
   ]
  },
  {
   "cell_type": "markdown",
   "id": "afe65d6f",
   "metadata": {},
   "source": [
    "Przed główną pętlą programu przygotowywany jest podział wykresu na dwie części : na jednej z nich znajdować będą się wskaźniki, a na drugiej wyrysowujemy dane przy pomocy wykresy słupkowego."
   ]
  },
  {
   "cell_type": "code",
   "execution_count": null,
   "id": "49888f0d",
   "metadata": {},
   "outputs": [],
   "source": [
    "    fig, ax = plt.subplots(2, sharex=True)\n",
    "    plt.xlabel(\"dni\")\n",
    "    ax[1].set_ylabel(\"cena akcji\")\n",
    "    ax[0].set_ylabel(\"wartość wskaźników\")\n",
    "    axes_1 = fig.gca()\n",
    "    # narysowanie wykresu danych wejściowych\n",
    "    ax[1].bar(np.arange(0, len(data)), data - min(data), width=1, color='#80ede2', bottom=min(data))\n",
    "    # zapisujemy wartości do późniejszego użycia\n",
    "    y_min_1, y_max_1 = axes_1.get_ylim()"
   ]
  },
  {
   "cell_type": "markdown",
   "id": "5f412560",
   "metadata": {},
   "source": [
    "W głównej pętli rysowanie wykresów przebiega poprzez rysowanie odcinków pomiędzy kolejnymi wartościami $MACD$ i $SIGNAL$\n"
   ]
  },
  {
   "cell_type": "code",
   "execution_count": null,
   "id": "8addcdff",
   "metadata": {},
   "outputs": [],
   "source": [
    "     for i in range(35, len(data)):\n",
    "            macd_arr = np.append(macd_arr,  MACD(data[:i]))\n",
    "            signal_arr = np.append(signal_arr, SIGNAL(macd_arr))\n",
    "\n",
    "            ax[0].plot([i - 1, i], [signal_arr[-2], signal_arr[-1]], color='b', label='SIGNAL')\n",
    "            ax[0].plot([i - 1, i], [macd_arr[-2], macd_arr[-1]], color='r', label='MACD')\n",
    "            "
   ]
  },
  {
   "cell_type": "markdown",
   "id": "0f41e2d5",
   "metadata": {},
   "source": [
    "W każdej iteracji pętli dodatkowo podejmowana jest decyzja o zakupie / sprzedaży akcji. Użyte funkcje omówione będą w dalszej części sprawozdania."
   ]
  },
  {
   "cell_type": "code",
   "execution_count": null,
   "id": "d8c2d181",
   "metadata": {},
   "outputs": [],
   "source": [
    " if sim_type == \"basic\":\n",
    "            prev_dif, actions, money = basicSim(actions, amount, ax, i, macd_arr, money, prev_dif, signal_arr, y_max_1,\n",
    "                                                y_min_1)\n",
    "        else:\n",
    "            last_action, actions, money = advancedSim(actions, amount, ax, dist, i, last_action, macd_arr, money,\n",
    "                                                      signal_arr, tau, y_max_1, y_min_1)"
   ]
  },
  {
   "cell_type": "markdown",
   "id": "d65f94b2",
   "metadata": {},
   "source": [
    "Po wykonaniu się głownej pętli obliczana jest końcowa wartość posiadanego kapitału\n"
   ]
  },
  {
   "cell_type": "code",
   "execution_count": null,
   "id": "7386471a",
   "metadata": {},
   "outputs": [],
   "source": [
    "end_value = money + actions * data_vector[len(data_vector) - 1]\n",
    "    print(f\"wartość startowa: {start_value}, wartosć końcowa : {end_value}, różnica: {end_value - start_value} \"\n",
    "          f\"( {100 * end_value /start_value}  % wartości startowej)\")"
   ]
  },
  {
   "cell_type": "markdown",
   "id": "8818161a",
   "metadata": {},
   "source": [
    "W końcu wyświetlane są wykresy"
   ]
  },
  {
   "cell_type": "code",
   "execution_count": null,
   "id": "00eb935f",
   "metadata": {},
   "outputs": [],
   "source": [
    "# usunięcie powtarzających się etykiet i wyświetlenie legend dla obu wykresów\n",
    "    handles, labels = ax[1].get_legend_handles_labels()\n",
    "    by_label = dict(zip(labels, handles))\n",
    "    ax[1].legend(by_label.values(), by_label.keys(), loc='lower left')\n",
    "    handles, labels = ax[0].get_legend_handles_labels()\n",
    "    by_label = dict(zip(labels, handles))\n",
    "    ax[0].legend(by_label.values(), by_label.keys(), loc='lower left')\n",
    "# wyświetlenie wykresów\n",
    "    fig.tight_layout()\n",
    "    plt.show()"
   ]
  },
  {
   "cell_type": "markdown",
   "id": "8978bbf6",
   "metadata": {},
   "source": [
    "## Omówienie implementacji funkcji symulujących"
   ]
  },
  {
   "cell_type": "markdown",
   "id": "d8e1c930",
   "metadata": {},
   "source": [
    "Do symulacji wykorzystywane są funkcje buy i sell"
   ]
  },
  {
   "cell_type": "code",
   "execution_count": null,
   "id": "56338913",
   "metadata": {},
   "outputs": [],
   "source": [
    "def buy(actions, money, rate, price):\n",
    "    amount = int(rate * money / price)\n",
    "    return actions + amount, money - amount * price\n",
    "\n",
    "\n",
    "def sell(actions, money, rate, price):\n",
    "    amount = int(actions * rate)\n",
    "    return actions - amount, money + price * amount"
   ]
  },
  {
   "cell_type": "markdown",
   "id": "324b50c2",
   "metadata": {},
   "source": [
    "### Prosta funkcja decyzji"
   ]
  },
  {
   "cell_type": "markdown",
   "id": "43a23c71",
   "metadata": {},
   "source": [
    "Pierwsza, (prosta) funkcaj przewidująca moment kupna / sprzedaży oparta jest na następującej zasadzie: momenty przecięcia się wykresów $MACD$ i $SIGNAL$ oznaczają moment kupna / sprzedaży - jeśli $MACD$ przecina $SIGNAL$ od dołu jest to sygnał do zakupu akcji, a w przeciwnym wypadku do sprzedaży.\n",
    "\n",
    "Jeśli wykresy $MACD$ i $SIGNAL$ przecinają się to różnica pomiędzy ich wartościami zmienia znak, w momentach przecięcia na wykresie danych rysowana jest pionowa linia - niebieska jeśli $SIGNAL$ przecina $MACD$ od góry i czerwona jeśli od dołu. Linie niebieskie wskazują moment sprzedaży akcji a czerwone zakupu.\n",
    "\n",
    "Funkcja zwraca wartość różnicy w danej iteracji oraz ilosć akcji i pieniędzy"
   ]
  },
  {
   "cell_type": "code",
   "execution_count": null,
   "id": "23bf5ab2",
   "metadata": {},
   "outputs": [],
   "source": [
    "def basicSim(actions, amount, ax, i, macd_arr, money, prev_dif, signal_arr, y_max_1, y_min_1):\n",
    "    dif = signal_arr[-1] - macd_arr[-1]\n",
    "    if np.sign(dif) != np.sign(prev_dif) and i > 35:\n",
    "        if dif - prev_dif > 0:\n",
    "            ax[1].vlines(i, y_min_1, y_max_1, colors='b', zorder=1, label=\"sell\")\n",
    "            actions, money = sell(actions, money, amount, data_vector[i])\n",
    "        else:\n",
    "            ax[1].vlines(i, y_min_1, y_max_1, colors='r', zorder=1, label=\"buy\")\n",
    "            actions, money = buy(actions, money, amount, data_vector[i])\n",
    "    return dif, actions, money"
   ]
  },
  {
   "cell_type": "markdown",
   "id": "2b8c3fb9",
   "metadata": {},
   "source": [
    "Poniżej załączone są wykresy wygenerowane przy użyciu wyżej opisanej funkcji dwa wykresy dla różnych, 1000 elementowych wektorów danych oraz wyniki symulacji dla obu zestawów danych.\n",
    "\n",
    "![wykres_podstawowy_1000_1](plots/plot_basic_1000.png)\n",
    "\n",
    "![wynik_podstawowy_1000](plots/basic_1000_result.png)\n",
    "\n",
    "![wykres_podstawowy_1000_2](plots/plot_basic_1000_2.png)\n",
    "\n",
    "![wynik_podstawowy_1000_2](plots/basic_1000_result_2.png)"
   ]
  },
  {
   "cell_type": "markdown",
   "id": "d0144b3c",
   "metadata": {},
   "source": [
    "### Bardziej zaawansowana funkcja decyzji"
   ]
  },
  {
   "cell_type": "markdown",
   "id": "f82e5f6d",
   "metadata": {},
   "source": [
    "Druga, bardziej zaawansowana funkcja opiera się na podobnym założeniu odnośnie wyznaczania momentów kupna / sprzedaży, aczkolwiek zamiast dokonywać transakcji w momencie przecięcia się wykresów można spróbować dokonać tego przed przecięciem się wykresów poprzez przewidzenie momentu ich przecięcia.\n",
    "\n",
    "Predykcja momentu przecięcia odbywa się przy wykorzystaniu algorytmu lokalnie ważonej regresji liniowej i jest opisana w dalszej części sprawozdania.\n"
   ]
  },
  {
   "cell_type": "markdown",
   "id": "0f58f1c7",
   "metadata": {},
   "source": [
    "Funkcja działa w oparciu o założenie, że zakup i sprzedaż odbywają się naprzemiennie (nie ma np. 2 zakupów pod rząd), zwraca wykonaną akcję oraz ilosć akcji i pieniędzy a podczas działania rysuje miejsce zakupu na wykresie danych jak i wskaźników."
   ]
  },
  {
   "cell_type": "code",
   "execution_count": null,
   "id": "f256a2cf",
   "metadata": {},
   "outputs": [],
   "source": [
    "def advancedSim(actions, amount, ax, dist, i, last_action, macd_arr, money, signal_arr, tau, y_max_1, y_min_1):\n",
    "    what = predict(macd_arr, signal_arr, dist, tau, plot=False, ax=ax[0], point=i)\n",
    "    if last_action != \"buy\" and what == \"buy\":\n",
    "        ax[1].vlines(i, y_min_1, y_max_1, colors='r', zorder=1, label=\"buy\")\n",
    "        ax[0].vlines(i, -1000000, 1000000, colors='r', zorder=1, label=\"buy\")\n",
    "        actions, money = buy(actions, money, amount, data_vector[i])\n",
    "        last_action = \"buy\"\n",
    "\n",
    "    elif last_action != \"sell\" and what == \"sell\":\n",
    "        ax[1].vlines(i, y_min_1, y_max_1, colors='b', zorder=1, label=\"sell\")\n",
    "        ax[0].vlines(i, -1000000, 1000000, colors='b', zorder=1, label=\"sell\")\n",
    "        actions, money = sell(actions, money, amount, data_vector[i])\n",
    "        last_action = \"sell\"\n",
    "    return last_action, actions, money"
   ]
  },
  {
   "cell_type": "markdown",
   "id": "023763dd",
   "metadata": {},
   "source": [
    "Poniżej załączone są wykresy wygenerowane przy użyciu wyżej opisanej funkcji dwa wykresy dla różnych, 1000 elementowych wektorów danych oraz wyniki symulacji dla obu zestawów danych.\n",
    "\n",
    "\n",
    "![wynik_adv_1000_plot](plots/plot_adv_1000.png)\n",
    "![wynik_adv_1000](plots/adv_1000_result.png)\n",
    "![wynik_adv_1000_2_plot](plots/plot_adv_1000_2.png)\n",
    "![wynik_adv_1000_2](plots/adv_1000_result_2.png)"
   ]
  },
  {
   "cell_type": "markdown",
   "id": "faf74511",
   "metadata": {},
   "source": [
    "### Predykcja\n",
    "Algorytm lokalnie ważonej regresji liniowej dopasowauje prostą do danych w konkretnym punkcie. Wagi innych punktów definiowane są poprzez odległość od wskazanego. Predykcja wykonywana jest dla najnowszego znanego punktu dancyh, co przy odpowiednim dobraniu parametru $\\tau$ (określającego jak szybko wagi spadają w odległości od danego punktu) pozwala przewidzeić moment przecięcia się wykresów $MACD$ i $SIGNAL$.\n",
    "\n",
    "Algorytm regresji opisany jest w dalszej części sprawozdania."
   ]
  },
  {
   "cell_type": "markdown",
   "id": "94828ead",
   "metadata": {},
   "source": [
    "Funkcja przewidująca czy wykresy przetną się jako parametry oprócz obu tablic pobiera parametr ***dist*** określający jak daleko może być przewidziany punkt przecięcia od obecnego momentu w czasie aby funkcja przewidziała że wykresy przetną się oraz parametr ***tau*** określający w jakim tempie spadają wagi oddalonych punktów. **W przedstawionych przykładach parametry dobrane zostały eksperymentalnie.**"
   ]
  },
  {
   "cell_type": "code",
   "execution_count": null,
   "id": "921c9b3f",
   "metadata": {},
   "outputs": [],
   "source": [
    "def predict(macd, signal, dist, tau, plot=False, ax=None, point=34, s_color='g', m_color='g', pred_color='g'):"
   ]
  },
  {
   "cell_type": "markdown",
   "id": "7a0afe7b",
   "metadata": {},
   "source": [
    "Najpierw zapewniana jest równa długość wektorów danych oraz ewentualne przycięcie ich do pewnego maksymalnego rozmiaru (tutaj określony na 100, w celu przyspieszenia obliczeń na dużych danych)"
   ]
  },
  {
   "cell_type": "code",
   "execution_count": null,
   "id": "81ac92be",
   "metadata": {},
   "outputs": [],
   "source": [
    "     width = min(len(macd), len(signal))\n",
    "        if width > 100:\n",
    "            width = 100\n",
    "        m = macd[-width:]\n",
    "        s = signal[-width:]\n",
    "\n",
    "        m_b, m_a = fit(m, tau)\n",
    "        s_b, s_a = fit(s, tau)\n",
    "        if s_a == m_a:\n",
    "            return \"pass\""
   ]
  },
  {
   "cell_type": "markdown",
   "id": "8c97e8c4",
   "metadata": {},
   "source": [
    "Punkt przecięcia się wykresów funkcji liniowych wyznaczany jest ze wzoru\n",
    "   $$ x_{przecięcia} = \\frac{b_{MACD} - b_{SIGNAL}}{a_{SIGNAL} - a_{MACD}} $$\n",
    "  gdzie $a, \\ b$ są parametrami funkcji liniowych aproksymujących dane"
   ]
  },
  {
   "cell_type": "code",
   "execution_count": null,
   "id": "05b73fea",
   "metadata": {},
   "outputs": [],
   "source": [
    "    cross = (m_b - s_b)/(s_a - m_a)"
   ]
  },
  {
   "cell_type": "markdown",
   "id": "ace0fcbd",
   "metadata": {},
   "source": [
    "Jeśli przecięcie znajduje się dalej na osi $x$ niż punkt dla którego przewidujemy i w odległości nie większej niż ***dist*** określane jest która funkcja przecina drugą z góry i zwracany jest odpowiedni wynik. Ewentualnie zależnie od parametru ***plot*** rysowana jest linia oznaczająca przewidziany punkt przecięcia i odcinki prostych aproksymujących $MACD$ i $SIGNAL$"
   ]
  },
  {
   "cell_type": "code",
   "execution_count": null,
   "id": "d57f7c8c",
   "metadata": {},
   "outputs": [],
   "source": [
    "    if cross >= width and cross - width <= dist:\n",
    "        # rysowanie przybliżonych linii aproksymujacych MACD i SIGNAL oraz przewidzianego punktu przecięcia\n",
    "        if plot:\n",
    "            plot_prediction(m, s, m_a, m_b, s_a, s_b, dist)\n",
    "            point_y = point - 34\n",
    "            f_y_s_1 = s_a * point_y + s_b\n",
    "            f_y_s_2 = s_a * (point_y + cross - width + 1) + s_b\n",
    "            f_y_m_1 = m_a * point_y + m_b\n",
    "            f_y_m_2 = m_a * (point_y+(cross - width) + 1) + m_b\n",
    "            ax.plot([point, point+(cross - width) + 1], [f_y_s_1, f_y_s_2], color=s_color, zorder=100)\n",
    "            ax.plot([point, point +(cross - width) + 1], [f_y_m_1, f_y_m_2], color=m_color, zorder=100)\n",
    "            ax.vlines(point+(cross - width) + 1, -1000000, 1000000, colors=pred_color, zorder=1,\n",
    "                      label=\"przewidziane przecięcie\")\n",
    "        if abs(s_a) > abs(m_a):\n",
    "            return \"sell\"\n",
    "        else:\n",
    "            return \"buy\"\n",
    "    else:\n",
    "        return \"pass\""
   ]
  },
  {
   "cell_type": "markdown",
   "id": "07b69184",
   "metadata": {},
   "source": [
    "### Lokalnie ważona regresja liniowa"
   ]
  },
  {
   "cell_type": "markdown",
   "id": "d89581ee",
   "metadata": {},
   "source": [
    "W klasycznym algorytmie regresji liniowej funkcja kosztu zdefiniowana jest jako\n",
    "$$ J(\\Theta) = \\sum_{i=1}^m (y^{(i)} - \\Theta^Tx^{(i)})^2 $$\n",
    "\n",
    "Modyfikujemy funkcję kosztu, tak aby uwzględniała wagi poszczególnych elementów\n",
    "$$ J(\\Theta) = \\sum_{i=1}^m w^{(i)} (y^{(i)} - \\Theta^Tx^{(i)})^2 $$\n",
    "\n",
    "Funkcję określającą wagę $i$-tego elementu względem $x$  możemy zdefiniować jako \n",
    "$$ w^{(i)} = exp(-\\frac{(x^{(i)} - x)^2}{2\\tau^2})=exp(-\\frac{(x^{(i)} - x)^T(x^{(i)} - x)}{2\\tau^2})$$\n",
    "Funkcja przyporządkowująca wagi elementom jest krzywą przypominającą krzywą Gaussa o odchyleniu standardowym $\\tau$ i średniej $x$\n",
    "\n",
    "Poniższa funkcja generuje macierz wag dla każdego $x$ względem zadanego punktu"
   ]
  },
  {
   "cell_type": "code",
   "execution_count": null,
   "id": "3093bd71",
   "metadata": {},
   "outputs": [],
   "source": [
    "def weight_matrix(point, x, tau):\n",
    "    n = x.shape[0]\n",
    "    ret = np.eye(n)\n",
    "    for i in range(n):\n",
    "        ret[i, i] = np.exp(((x[i] - point).dot(np.transpose(x[i] - point))) / (-2 * tau * tau))\n",
    "    return ret"
   ]
  },
  {
   "cell_type": "markdown",
   "id": "d2afc2b7",
   "metadata": {},
   "source": [
    "Klasyczną regresję liniową moglibyśmy dopasować przy uzyciu równania normalnej wyznaczając $\\Theta$ jako :\n",
    "\n",
    "\n",
    "$$ \\Theta = (X^TX)^{-1}(X^Ty) $$\n",
    "\n",
    "\n",
    "Ta sama metoda może być zaaplikowana dla naszego przypadku:\n",
    "\n",
    "\n",
    "$$ \\Theta = (X^TWX)^{-1}(X^TWy) $$\n",
    "gdzie $W$ jest macierzą wag\n",
    "\n",
    "Należy również pamiętać o dodaniu do wektora $X$ kolumny jedynek aby wynikowy wektor $\\Theta$ zawierał wyraz $b$ dla równania prostej $ y \\ = \\ ax + b$, gdzie $ b = \\Theta_0$ i $ a = \\Theta_1 $\n",
    "\n",
    "W tym przypadku jako punkt o najwyższej wadze określamy ostatni element wektora danych"
   ]
  },
  {
   "cell_type": "code",
   "execution_count": null,
   "id": "1e7423ee",
   "metadata": {},
   "outputs": [],
   "source": [
    "def fit(y, tau):\n",
    "    n = y.shape[0]\n",
    "    x = np.arange(0, n)\n",
    "\n",
    "    x_a = np.append(np.ones(n).reshape(n, 1), x.reshape(n, 1), axis=1)\n",
    "    point = np.array([1, n - 1])\n",
    "    w = weight_matrix(point, x_a, tau)\n",
    "    theta = np.linalg.pinv(np.transpose(x_a).dot(w.dot(x_a))).dot(np.transpose(x_a).dot(w.dot(y)))\n",
    "\n",
    "    # b, a in y = ax + b\n",
    "    return theta[0], theta[1]"
   ]
  },
  {
   "cell_type": "markdown",
   "id": "d52371f3",
   "metadata": {},
   "source": [
    "Dodatkowo zdefiniowana jest funkcja obrazująca aproksymację krzywych $MACD$ i $SIGNAL$ przez proste"
   ]
  },
  {
   "cell_type": "code",
   "execution_count": null,
   "id": "9e5359ce",
   "metadata": {},
   "outputs": [],
   "source": [
    "def plot_prediction(m, s, m_a, m_b, s_a, s_b, dist):\n",
    "    # zakładamy równą długość wektorów\n",
    "    x_end = len(m) + dist\n",
    "    x = np.arange(0, len(m))\n",
    "    plt.figure()\n",
    "    plt.scatter(x, s, color='#ff0000')\n",
    "    plt.scatter(x, m, color='#0000ff')\n",
    "    plt.plot([0, x_end], [m_b, m_a*x_end + m_b], color='#0fff00')\n",
    "    plt.plot([0, x_end], [s_b, s_a*x_end + s_b], color='#00fff0')\n"
   ]
  },
  {
   "cell_type": "markdown",
   "id": "9469e9da",
   "metadata": {},
   "source": [
    "Poniżej załączone są wyniki wyświetlane przez powyższą funkcję dla dwóch różnych zestawów danych\n",
    "\n",
    "\n",
    "![aproksymacja1](plots/plot_pred_1.png)\n",
    "\n",
    "\n",
    "![aproksymacja2](plots/plot_pred_2.png)"
   ]
  },
  {
   "cell_type": "markdown",
   "id": "84a3ab5c",
   "metadata": {},
   "source": [
    "## Ocena przydatności wskaźnika w analizie technicznej"
   ]
  },
  {
   "cell_type": "markdown",
   "id": "95e8965a",
   "metadata": {},
   "source": [
    "Ponizej przedstawione są wykresy 100 elementowego wektora danych (czytelniejszy wykres, więc prostszy w analizie) razem z wynikami dla obu opisanych wyżej algorytmów determinujących moment tranzakcji.\n",
    "\n",
    "Wykres dla podstawowego algorytmu.\n",
    "\n",
    "\n",
    "![wykres_podstawowy_100](plots/plot_basic_100.png)\n",
    "\n",
    "\n",
    "![wynik_podstawowy_100](plots/basic_100_result.png)\n",
    "\n",
    "Wykres dla bardziej zaawansowanego algorytmu (wyrysowane są przewidziane punkty przecięcia).\n",
    "\n",
    "\n",
    "![wynik_adv_100_plot](plots/plot_adv_100.png)\n",
    "\n",
    "\n",
    "![wynik_adv_100](plots/adv_100_result.png)\n",
    "\n",
    "\n"
   ]
  },
  {
   "cell_type": "markdown",
   "id": "dabca670",
   "metadata": {},
   "source": [
    "Analizując wykres dla podstawowego algorytmu można stwierdzić, że decyzje o kupnie / sprzedaży są spóźnione, przez co przy dynamicznie zmieniającej się cenie akcji mogą prowadzić do strat. Punkty przecięcia się wykresów $MACD$ i $SIGNAL$ niewątpliwie niosą informację o dogodnym momencie tranzakcji aczkolwiek poprzez wspomniane opóźnienie dokonywanie zakupów / sprzedaży w momencie przecięcia się wykresów może przynieść zyski jedynie w dłuższej perspektywie i tylko wtedy kiedy w ogólnym rozrachunku cena akcji rośnie, przy cenie oscylującej wokół pewnej stałej wartości tranzakcje przeprowadzane w momentach przecięcia się wykresów prowadzą do strat co widać ma przedstawionych wcześniej wykresach dla 1000 elementowych wektorów danych.\n",
    "\n",
    "Algorytm przewidujący do przodu moment przecięcia się radzi sobie lepiej od prostego algorytmu przynosząc lekkie zyski (wyżej przedstawione przykłady dla wektorów 1000 elementowych) pod warunkiem trafnego dobrania parametrów, gdyż elminuje on częściowo wspomniane wcześniej opóźnienia.\n",
    "\n",
    "**Podsumowując**\n",
    "Wskaźnik $MACD$ zdecydowanie może być przydatny w analizie technicznej, a miejsca jego przecięcia z $SIGNAL$ zdecydowanie wskazują na zmianę trendu, aczkolwiek wskaźnik ten sam w sobie nie jest raczej podstawą do poprawnego wyznaczania momentów kupna / sprzedaży w czasie rzeczywistym."
   ]
  },
  {
   "cell_type": "code",
   "execution_count": null,
   "id": "59cda0b9",
   "metadata": {},
   "outputs": [],
   "source": []
  }
 ],
 "metadata": {
  "kernelspec": {
   "display_name": "Python 3 (ipykernel)",
   "language": "python",
   "name": "python3"
  },
  "language_info": {
   "codemirror_mode": {
    "name": "ipython",
    "version": 3
   },
   "file_extension": ".py",
   "mimetype": "text/x-python",
   "name": "python",
   "nbconvert_exporter": "python",
   "pygments_lexer": "ipython3",
   "version": "3.9.11"
  }
 },
 "nbformat": 4,
 "nbformat_minor": 5
}
